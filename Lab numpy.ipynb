{
 "cells": [
  {
   "cell_type": "code",
   "execution_count": 144,
   "id": "cb3ecfaf",
   "metadata": {},
   "outputs": [
    {
     "name": "stdout",
     "output_type": "stream",
     "text": [
      "[[0.09767211 0.68423303 0.44015249 0.12203823 0.49517691]\n",
      " [0.03438852 0.9093204  0.25877998 0.66252228 0.31171108]]\n"
     ]
    }
   ],
   "source": [
    "## 1 import numpy\n",
    "import numpy as np"
   ]
  },
  {
   "cell_type": "code",
   "execution_count": 13,
   "id": "00ba2b26",
   "metadata": {},
   "outputs": [
    {
     "data": {
      "text/plain": [
       "array([[0., 0., 0., 0., 0., 0., 0., 0., 0., 0.]])"
      ]
     },
     "execution_count": 13,
     "metadata": {},
     "output_type": "execute_result"
    }
   ],
   "source": [
    "## 2 create a vector of size 10\n",
    "first_array = np.zeros((1,10))\n",
    "first_array"
   ]
  },
  {
   "cell_type": "code",
   "execution_count": null,
   "id": "32ba0133",
   "metadata": {},
   "outputs": [],
   "source": []
  },
  {
   "cell_type": "code",
   "execution_count": 36,
   "id": "0218cb6b",
   "metadata": {},
   "outputs": [
    {
     "name": "stdout",
     "output_type": "stream",
     "text": [
      "[[0. 0. 0. 0. 1. 0. 0. 0. 0. 0.]]\n"
     ]
    }
   ],
   "source": [
    "## 3 create a 0 vector with 1 at the fifth position\n",
    "second_array = np.zeros((1,10))\n",
    "second_array[0,4] = 1 \n",
    "print (second_array)\n",
    "    \n",
    "    "
   ]
  },
  {
   "cell_type": "code",
   "execution_count": 37,
   "id": "3ab69d6f",
   "metadata": {},
   "outputs": [
    {
     "data": {
      "text/plain": [
       "array([10, 11, 12, 13, 14, 15, 16, 17, 18, 19, 20, 21, 22, 23, 24, 25, 26,\n",
       "       27, 28, 29, 30, 31, 32, 33, 34, 35, 36, 37, 38, 39, 40, 41, 42, 43,\n",
       "       44, 45, 46, 47, 48])"
      ]
     },
     "execution_count": 37,
     "metadata": {},
     "output_type": "execute_result"
    }
   ],
   "source": [
    "## 4 create a vector with values ranging 10-49\n",
    "np.arange(10, 50)\n"
   ]
  },
  {
   "cell_type": "code",
   "execution_count": 40,
   "id": "a8191fe9",
   "metadata": {},
   "outputs": [
    {
     "data": {
      "text/plain": [
       "array([[0, 1, 2],\n",
       "       [3, 4, 5],\n",
       "       [6, 7, 8]])"
      ]
     },
     "execution_count": 40,
     "metadata": {},
     "output_type": "execute_result"
    }
   ],
   "source": [
    "## 5 create 3*3 matrix with values 0-8\n",
    "np.arange(0, 9).reshape(3, 3)\n"
   ]
  },
  {
   "cell_type": "code",
   "execution_count": 41,
   "id": "e23f9598",
   "metadata": {},
   "outputs": [
    {
     "data": {
      "text/plain": [
       "(array([0, 1, 4]),)"
      ]
     },
     "execution_count": 41,
     "metadata": {},
     "output_type": "execute_result"
    }
   ],
   "source": [
    "## 6 Find indices of non-zero elements from \n",
    "third_array = [1,2,0,0,4,0] \n",
    "np.nonzero(third_array)\n"
   ]
  },
  {
   "cell_type": "code",
   "execution_count": 139,
   "id": "37f4d88d",
   "metadata": {},
   "outputs": [
    {
     "data": {
      "text/plain": [
       "array([[1., 0., 0.],\n",
       "       [0., 1., 0.],\n",
       "       [0., 0., 1.]])"
      ]
     },
     "execution_count": 139,
     "metadata": {},
     "output_type": "execute_result"
    }
   ],
   "source": [
    "## 7. Create a 3x3 identity matrix\n",
    "\n",
    "np.identity(3)"
   ]
  },
  {
   "cell_type": "code",
   "execution_count": 140,
   "id": "fd585cce",
   "metadata": {},
   "outputs": [
    {
     "name": "stdout",
     "output_type": "stream",
     "text": [
      "[[[0.37454012 0.95071431 0.73199394]\n",
      "  [0.59865848 0.15601864 0.15599452]\n",
      "  [0.05808361 0.86617615 0.60111501]]\n",
      "\n",
      " [[0.70807258 0.02058449 0.96990985]\n",
      "  [0.83244264 0.21233911 0.18182497]\n",
      "  [0.18340451 0.30424224 0.52475643]]\n",
      "\n",
      " [[0.43194502 0.29122914 0.61185289]\n",
      "  [0.13949386 0.29214465 0.36636184]\n",
      "  [0.45606998 0.78517596 0.19967378]]]\n"
     ]
    }
   ],
   "source": [
    "## 8. Create a 3x3x3 array with random values\n",
    "np.random.seed(42)\n",
    "x = np.random.random((3,3,3))\n",
    "print(x)"
   ]
  },
  {
   "cell_type": "code",
   "execution_count": 57,
   "id": "f7a9f448",
   "metadata": {},
   "outputs": [
    {
     "name": "stdout",
     "output_type": "stream",
     "text": [
      "[[0.37454012 0.95071431 0.73199394 0.59865848 0.15601864 0.15599452\n",
      "  0.05808361 0.86617615 0.60111501 0.70807258]\n",
      " [0.02058449 0.96990985 0.83244264 0.21233911 0.18182497 0.18340451\n",
      "  0.30424224 0.52475643 0.43194502 0.29122914]\n",
      " [0.61185289 0.13949386 0.29214465 0.36636184 0.45606998 0.78517596\n",
      "  0.19967378 0.51423444 0.59241457 0.04645041]\n",
      " [0.60754485 0.17052412 0.06505159 0.94888554 0.96563203 0.80839735\n",
      "  0.30461377 0.09767211 0.68423303 0.44015249]\n",
      " [0.12203823 0.49517691 0.03438852 0.9093204  0.25877998 0.66252228\n",
      "  0.31171108 0.52006802 0.54671028 0.18485446]\n",
      " [0.96958463 0.77513282 0.93949894 0.89482735 0.59789998 0.92187424\n",
      "  0.0884925  0.19598286 0.04522729 0.32533033]\n",
      " [0.38867729 0.27134903 0.82873751 0.35675333 0.28093451 0.54269608\n",
      "  0.14092422 0.80219698 0.07455064 0.98688694]\n",
      " [0.77224477 0.19871568 0.00552212 0.81546143 0.70685734 0.72900717\n",
      "  0.77127035 0.07404465 0.35846573 0.11586906]\n",
      " [0.86310343 0.62329813 0.33089802 0.06355835 0.31098232 0.32518332\n",
      "  0.72960618 0.63755747 0.88721274 0.47221493]\n",
      " [0.11959425 0.71324479 0.76078505 0.5612772  0.77096718 0.4937956\n",
      "  0.52273283 0.42754102 0.02541913 0.10789143]]\n",
      "0.005522117123602399\n",
      "0.9868869366005173\n"
     ]
    }
   ],
   "source": [
    "## 9 Create a 10x10 array with random values and find the minimum and maximum values\n",
    "np.random.seed(42)\n",
    "fourth_array = np.random.random(100).reshape(10,10)\n",
    "print(fourth_array)\n",
    "\n",
    "print(fourth_array.min())\n",
    "print(fourth_array.max())"
   ]
  },
  {
   "cell_type": "code",
   "execution_count": 59,
   "id": "5b6d1c89",
   "metadata": {},
   "outputs": [
    {
     "data": {
      "text/plain": [
       "0.43859727209743676"
      ]
     },
     "execution_count": 59,
     "metadata": {},
     "output_type": "execute_result"
    }
   ],
   "source": [
    "## 10 Create a random vector of size 30 and find the mean value \n",
    "np.random.seed(42)\n",
    "fifth_array = np.random.random(30)\n",
    "(fifth_array.mean())"
   ]
  },
  {
   "cell_type": "code",
   "execution_count": 119,
   "id": "854538e0",
   "metadata": {},
   "outputs": [
    {
     "data": {
      "text/plain": [
       "array([[0, 0, 0, 0, 0],\n",
       "       [1, 0, 0, 0, 0],\n",
       "       [0, 2, 0, 0, 0],\n",
       "       [0, 0, 3, 0, 0],\n",
       "       [0, 0, 0, 4, 0]])"
      ]
     },
     "execution_count": 119,
     "metadata": {},
     "output_type": "execute_result"
    }
   ],
   "source": [
    "## 11 Create a 5x5 matrix with values 1,2,3,4 just below the diagonal\n",
    "np.diagflat([[1,2], [3,4]], -1)"
   ]
  },
  {
   "cell_type": "code",
   "execution_count": 73,
   "id": "2a78b0b3",
   "metadata": {},
   "outputs": [
    {
     "name": "stdout",
     "output_type": "stream",
     "text": [
      "[[0.37469596 0.1592825  0.10099439 0.40183472 0.64844972]\n",
      " [0.29012851 0.37204576 0.59233932 0.43279749 0.66830558]\n",
      " [0.86395689 0.18056328 0.4189643  0.35810995 0.19588805]\n",
      " [0.03311218 0.43714327 0.42353986 0.06127079 0.19162834]\n",
      " [0.81532004 0.17179953 0.12208338 0.58255413 0.67784302]]\n"
     ]
    }
   ],
   "source": [
    "## 12. Normalize a 5x5 random matrix\n",
    "\n",
    "## creates a 5*5 matrix\n",
    "np.random.seed(42)\n",
    "matrix = np.random.random(25).reshape(5,5)\n",
    "\n",
    "## finds the norms using linear algebra\n",
    "norms_matrix = np.linalg.norm(matrix, axis=1)\n",
    "\n",
    "\n",
    "print (matrix / norms_matrix)"
   ]
  },
  {
   "cell_type": "code",
   "execution_count": 78,
   "id": "1e4d9563",
   "metadata": {},
   "outputs": [
    {
     "name": "stdout",
     "output_type": "stream",
     "text": [
      "[15 16 17 18 19 20 21 22 23 24]\n",
      "[ 1  2  3  4  5  6  7  8  9 10 11 12 13 14 15 16 17 18 19]\n"
     ]
    },
    {
     "data": {
      "text/plain": [
       "array([15, 16, 17, 18, 19])"
      ]
     },
     "execution_count": 78,
     "metadata": {},
     "output_type": "execute_result"
    }
   ],
   "source": [
    "## 13. How to find common values between two arrays?\n",
    "\n",
    "x = np.arange(15,25)\n",
    "y = np.arange(1,20)\n",
    "\n",
    "print (x)\n",
    "print (y)\n",
    "np.intersect1d(x, y)"
   ]
  },
  {
   "cell_type": "code",
   "execution_count": 97,
   "id": "b4d7d568",
   "metadata": {},
   "outputs": [
    {
     "name": "stdout",
     "output_type": "stream",
     "text": [
      "[[0.02058449 0.96990985 0.83244264 0.21233911 0.18182497]\n",
      " [0.18340451 0.30424224 0.52475643 0.43194502 0.29122914]]\n",
      "[[0.02058449 0.18182497 0.21233911 0.83244264 0.96990985]\n",
      " [0.18340451 0.29122914 0.30424224 0.43194502 0.52475643]]\n"
     ]
    }
   ],
   "source": [
    "## 14 Create a random vector of size 10 and sort it\n",
    "\n",
    "\n",
    "unsorted_array = np.random.random(10).reshape(2,5)\n",
    "\n",
    "print (unsorted_array)\n",
    "\n",
    "sorted_array = np.sort(unsorted_array)\n",
    "\n",
    "print (sorted_array)"
   ]
  },
  {
   "cell_type": "code",
   "execution_count": 116,
   "id": "e51cfcf0",
   "metadata": {},
   "outputs": [
    {
     "name": "stdout",
     "output_type": "stream",
     "text": [
      "[[0.78433798 0.05308802 0.75924774 0.81384159 0.52159796 0.\n",
      "  0.47308744 0.17808667 0.36139865 0.90586751]]\n"
     ]
    }
   ],
   "source": [
    "## 15 Create random vector of size 10 and replace the maximum value by 0\n",
    "\n",
    "\n",
    "## creates a random vector size 10\n",
    "random_vector = np.random.rand(10).reshape(1,10)\n",
    "\n",
    "## find index of max\n",
    "index_max = np.argmax(random_vector)  \n",
    "\n",
    "## equate max value at index to zeo\n",
    "random_vector[0, (index_max)] = 0\n",
    "print (random_vector)"
   ]
  },
  {
   "cell_type": "code",
   "execution_count": 102,
   "id": "87354dee",
   "metadata": {},
   "outputs": [],
   "source": [
    "## 16 Subtract the mean of each row of a matrix"
   ]
  },
  {
   "cell_type": "code",
   "execution_count": 108,
   "id": "4bad8352",
   "metadata": {},
   "outputs": [
    {
     "name": "stdout",
     "output_type": "stream",
     "text": [
      "[[ 0.39420544 -0.02079238 -0.37341306]\n",
      " [ 0.03480911  0.08234937 -0.11715848]\n",
      " [ 0.17513531 -0.10203627 -0.07309904]]\n"
     ]
    }
   ],
   "source": [
    "another_array = np.random.random(9).reshape(3, 3)\n",
    "subtracted_array = another_array - another_array.mean(axis=1, keepdims=True)\n",
    "\n",
    "print (subtracted_array)"
   ]
  },
  {
   "cell_type": "code",
   "execution_count": 112,
   "id": "a61e4d2e",
   "metadata": {},
   "outputs": [
    {
     "name": "stdout",
     "output_type": "stream",
     "text": [
      "[7194 9401 2535 2819 2752]\n"
     ]
    }
   ],
   "source": [
    "## 17 How to get the n largest values of an array \n",
    "\n",
    "## create an array size 1000 and shuffle\n",
    "Z = np.arange(10000)\n",
    "np.random.shuffle(Z)\n",
    "\n",
    "## select the number of highest indices to be found\n",
    "n = 5\n",
    "\n",
    "## find the largest indices\n",
    "largest_index = np.argpartition(Z, -n)[-n:]\n",
    "indices = largest_index[np.argsort((-Z)[largest_index])]\n",
    "print (indices)"
   ]
  },
  {
   "cell_type": "code",
   "execution_count": 138,
   "id": "5bfe8baf",
   "metadata": {},
   "outputs": [
    {
     "name": "stdout",
     "output_type": "stream",
     "text": [
      "[[6 3 7]\n",
      " [4 6 9]\n",
      " [2 6 7]\n",
      " [4 3 7]\n",
      " [7 2 5]]\n"
     ]
    },
    {
     "data": {
      "text/plain": [
       "array([[36,  3, 49],\n",
       "       [ 4, 36, 81],\n",
       "       [ 2, 36, 49],\n",
       "       [ 4,  3, 49],\n",
       "       [49,  2, 25]])"
      ]
     },
     "execution_count": 138,
     "metadata": {},
     "output_type": "execute_result"
    }
   ],
   "source": [
    "## 18 Create a random 5*3 matrix \n",
    "np.random.seed(42)\n",
    "final_matrix = np.random.randint(0, 10, (5, 3))\n",
    "print (final_matrix)\n",
    "\n",
    "## replace all  x > 4 with x**2 \n",
    "np.where(final_matrix > 4, final_matrix**2, final_matrix)"
   ]
  },
  {
   "cell_type": "code",
   "execution_count": null,
   "id": "725e3aba",
   "metadata": {},
   "outputs": [],
   "source": []
  }
 ],
 "metadata": {
  "kernelspec": {
   "display_name": "Python 3 (ipykernel)",
   "language": "python",
   "name": "python3"
  },
  "language_info": {
   "codemirror_mode": {
    "name": "ipython",
    "version": 3
   },
   "file_extension": ".py",
   "mimetype": "text/x-python",
   "name": "python",
   "nbconvert_exporter": "python",
   "pygments_lexer": "ipython3",
   "version": "3.9.7"
  }
 },
 "nbformat": 4,
 "nbformat_minor": 5
}
