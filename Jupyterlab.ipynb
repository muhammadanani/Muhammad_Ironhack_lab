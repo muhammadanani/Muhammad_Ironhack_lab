{
 "cells": [
  {
   "cell_type": "markdown",
   "id": "c90e5121",
   "metadata": {},
   "source": [
    "# Ideal Vacation destination form"
   ]
  },
  {
   "cell_type": "markdown",
   "id": "3027ca7d",
   "metadata": {},
   "source": [
    "*This Notebook is about my most ideal vacation* "
   ]
  },
  {
   "cell_type": "markdown",
   "id": "b4f5a92c",
   "metadata": {},
   "source": [
    "Table of contents:\n",
    "1.[Name](#Name)\n",
    "2.[Me in Nice](#Me-in-Nice)\n",
    "3.[Type of Vacation](#Type-of-Vacation)\n",
    "4.[Photo of Nice](#Photo-of-Nice)\n",
    "5.[Favourite Activities](#Favourite-Activities)\n",
    "6.[Nice Video](#Nice-Video)"
   ]
  },
  {
   "cell_type": "markdown",
   "id": "fc79cd7a",
   "metadata": {},
   "source": [
    "<a id='Name'></a>\n",
    "### Name"
   ]
  },
  {
   "cell_type": "code",
   "execution_count": 2,
   "id": "5eb0819d",
   "metadata": {},
   "outputs": [
    {
     "name": "stdout",
     "output_type": "stream",
     "text": [
      "Name of vacationer: Muhammad \n"
     ]
    },
    {
     "data": {
      "text/plain": [
       "'Muhammad '"
      ]
     },
     "execution_count": 2,
     "metadata": {},
     "output_type": "execute_result"
    }
   ],
   "source": [
    "input ('Name of vacationer: ')  # input name of vacationers"
   ]
  },
  {
   "cell_type": "markdown",
   "id": "a0ffa6a7",
   "metadata": {},
   "source": [
    "<a id='Me-in-Nice'></a>\n",
    "### Me in Nice"
   ]
  },
  {
   "cell_type": "markdown",
   "id": "783db921",
   "metadata": {},
   "source": [
    "![alt text](https://perfectlyprovence.co/wp-content/uploads/2017/12/Visit-Nice-Beach.png)"
   ]
  },
  {
   "cell_type": "markdown",
   "id": "a2ae7394",
   "metadata": {},
   "source": [
    "<a id='Type-of-Vacation'></a>\n",
    "### Type of Vacation "
   ]
  },
  {
   "cell_type": "code",
   "execution_count": 16,
   "id": "20a8642b",
   "metadata": {},
   "outputs": [
    {
     "name": "stdout",
     "output_type": "stream",
     "text": [
      "What kind of vacation would you like to go on? (beach/sport/adventure/rejuvination): beach\n"
     ]
    },
    {
     "data": {
      "text/plain": [
       "'beach'"
      ]
     },
     "execution_count": 16,
     "metadata": {},
     "output_type": "execute_result"
    }
   ],
   "source": [
    "input ('What kind of vacation would you like to go on? (beach/sport/adventure/rejuvination): ')"
   ]
  },
  {
   "cell_type": "code",
   "execution_count": 12,
   "id": "b0f35afd",
   "metadata": {},
   "outputs": [
    {
     "name": "stdout",
     "output_type": "stream",
     "text": [
      "Where would your ideal vacation destination be?: Nice\n"
     ]
    },
    {
     "data": {
      "text/plain": [
       "'Nice'"
      ]
     },
     "execution_count": 12,
     "metadata": {},
     "output_type": "execute_result"
    }
   ],
   "source": [
    "input ('Where would your ideal vacation destination be?: ')"
   ]
  },
  {
   "cell_type": "markdown",
   "id": "6e3f730c",
   "metadata": {},
   "source": [
    "<a id='Photo-of-Nice'></a>\n",
    "### Photo of Nice"
   ]
  },
  {
   "cell_type": "markdown",
   "id": "facb7c47",
   "metadata": {},
   "source": [
    "![alt text](https://frenchriviera.travel/wp-content/uploads/2018/07/Beaches-on-the-French-Riviera5.jpg)\n"
   ]
  },
  {
   "cell_type": "markdown",
   "id": "737aeb3f",
   "metadata": {},
   "source": [
    "<a id='Favourite-Activities'></a>\n",
    "### Favourite Activities"
   ]
  },
  {
   "cell_type": "markdown",
   "id": "8f646708",
   "metadata": {},
   "source": [
    "1. <font color='blue'>Morning swim in the cold water</font> \n",
    "2. <font color='orange'>Day drinking</font> \n",
    "3. <font color='violet'>Reading</font> \n",
    "4. <font color='green'>Eat fresh fruits all day from the markets</font> "
   ]
  },
  {
   "cell_type": "markdown",
   "id": "5464dd1b",
   "metadata": {},
   "source": [
    "<a id='Nice-Video'></a>\n",
    "### Nice video"
   ]
  },
  {
   "cell_type": "markdown",
   "id": "8fdaa32c",
   "metadata": {},
   "source": [
    "[Summertime in Nice: video](https://www.youtube.com/watch?v=0-Dyuyx62Tc)"
   ]
  },
  {
   "cell_type": "code",
   "execution_count": null,
   "id": "c7677166",
   "metadata": {},
   "outputs": [],
   "source": []
  }
 ],
 "metadata": {
  "kernelspec": {
   "display_name": "Python 3 (ipykernel)",
   "language": "python",
   "name": "python3"
  },
  "language_info": {
   "codemirror_mode": {
    "name": "ipython",
    "version": 3
   },
   "file_extension": ".py",
   "mimetype": "text/x-python",
   "name": "python",
   "nbconvert_exporter": "python",
   "pygments_lexer": "ipython3",
   "version": "3.9.7"
  }
 },
 "nbformat": 4,
 "nbformat_minor": 5
}
